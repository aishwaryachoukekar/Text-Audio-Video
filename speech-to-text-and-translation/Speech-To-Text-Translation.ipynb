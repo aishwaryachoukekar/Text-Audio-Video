{
 "cells": [
  {
   "cell_type": "code",
   "execution_count": 1,
   "id": "98354b94",
   "metadata": {},
   "outputs": [],
   "source": [
    "# Installing libraries to use for the first time\n",
    "# pip install SpeechRecognition\n",
    "# pip install deep-translator\n",
    "# !pip install pipwin -- because windows might give error to install pyaudio\n",
    "# !pipwin install pyaudio"
   ]
  },
  {
   "cell_type": "code",
   "execution_count": 2,
   "id": "e760b41a",
   "metadata": {},
   "outputs": [],
   "source": [
    "# import libraries\n",
    "import speech_recognition as sr\n",
    "from deep_translator import GoogleTranslator"
   ]
  },
  {
   "cell_type": "code",
   "execution_count": 3,
   "id": "30c78351",
   "metadata": {},
   "outputs": [],
   "source": [
    "# Initialize recognizer class from speech_recognition\n",
    "r = sr.Recognizer()"
   ]
  },
  {
   "cell_type": "code",
   "execution_count": 4,
   "id": "fdb62524",
   "metadata": {},
   "outputs": [
    {
     "name": "stdout",
     "output_type": "stream",
     "text": [
      "a young girl is lying in the sand while ocean water is surrounding her\n"
     ]
    }
   ],
   "source": [
    "# using speech recognition library to convert audio to text\n",
    "# audio file is used from the Flickr dataset\n",
    "\n",
    "with sr.AudioFile('test_audio.wav') as source:   \n",
    "    speech_text = r.listen(source)   \n",
    "    try:\n",
    "        text = r.recognize_google(speech_text)\n",
    "        print(text)\n",
    "     \n",
    "    except:\n",
    "         print('Some error occured :(')"
   ]
  },
  {
   "cell_type": "code",
   "execution_count": 5,
   "id": "f3a259b6",
   "metadata": {},
   "outputs": [
    {
     "name": "stdout",
     "output_type": "stream",
     "text": [
      "Speak... \n",
      "I think I got it!!\n",
      "\n",
      "I heard you say: weather is sunny today\n"
     ]
    }
   ],
   "source": [
    "# using system's mircophone to speak and convert to text\n",
    "\n",
    "with sr.Microphone() as source:\n",
    "    print(\"Speak... \")\n",
    "    microphone_text = r.listen(source)\n",
    "    print(\"I think I got it!!\")   \n",
    "    try:\n",
    "        # using google speech recognition\n",
    "        print(\"\\nI heard you say: \"+r.recognize_google(microphone_text))\n",
    "    except:\n",
    "         print(\"Sorry, I don't understand\")"
   ]
  },
  {
   "cell_type": "markdown",
   "id": "85c544de",
   "metadata": {},
   "source": [
    "## Translating audio text to different languages\n",
    "\n",
    "- We will be using deep_translator library's GoogleTranslator to convert the audio text to different languages.\n",
    "- Let's have a look at the languages supported by this class."
   ]
  },
  {
   "cell_type": "code",
   "execution_count": 6,
   "id": "180a7230",
   "metadata": {},
   "outputs": [
    {
     "data": {
      "text/plain": [
       "{'afrikaans': 'af',\n",
       " 'albanian': 'sq',\n",
       " 'amharic': 'am',\n",
       " 'arabic': 'ar',\n",
       " 'armenian': 'hy',\n",
       " 'azerbaijani': 'az',\n",
       " 'basque': 'eu',\n",
       " 'belarusian': 'be',\n",
       " 'bengali': 'bn',\n",
       " 'bosnian': 'bs',\n",
       " 'bulgarian': 'bg',\n",
       " 'catalan': 'ca',\n",
       " 'cebuano': 'ceb',\n",
       " 'chichewa': 'ny',\n",
       " 'chinese (simplified)': 'zh-CN',\n",
       " 'chinese (traditional)': 'zh-TW',\n",
       " 'corsican': 'co',\n",
       " 'croatian': 'hr',\n",
       " 'czech': 'cs',\n",
       " 'danish': 'da',\n",
       " 'dutch': 'nl',\n",
       " 'english': 'en',\n",
       " 'esperanto': 'eo',\n",
       " 'estonian': 'et',\n",
       " 'filipino': 'tl',\n",
       " 'finnish': 'fi',\n",
       " 'french': 'fr',\n",
       " 'frisian': 'fy',\n",
       " 'galician': 'gl',\n",
       " 'georgian': 'ka',\n",
       " 'german': 'de',\n",
       " 'greek': 'el',\n",
       " 'gujarati': 'gu',\n",
       " 'haitian creole': 'ht',\n",
       " 'hausa': 'ha',\n",
       " 'hawaiian': 'haw',\n",
       " 'hebrew': 'iw',\n",
       " 'hindi': 'hi',\n",
       " 'hmong': 'hmn',\n",
       " 'hungarian': 'hu',\n",
       " 'icelandic': 'is',\n",
       " 'igbo': 'ig',\n",
       " 'indonesian': 'id',\n",
       " 'irish': 'ga',\n",
       " 'italian': 'it',\n",
       " 'japanese': 'ja',\n",
       " 'javanese': 'jw',\n",
       " 'kannada': 'kn',\n",
       " 'kazakh': 'kk',\n",
       " 'khmer': 'km',\n",
       " 'kinyarwanda': 'rw',\n",
       " 'korean': 'ko',\n",
       " 'kurdish': 'ku',\n",
       " 'kyrgyz': 'ky',\n",
       " 'lao': 'lo',\n",
       " 'latin': 'la',\n",
       " 'latvian': 'lv',\n",
       " 'lithuanian': 'lt',\n",
       " 'luxembourgish': 'lb',\n",
       " 'macedonian': 'mk',\n",
       " 'malagasy': 'mg',\n",
       " 'malay': 'ms',\n",
       " 'malayalam': 'ml',\n",
       " 'maltese': 'mt',\n",
       " 'maori': 'mi',\n",
       " 'marathi': 'mr',\n",
       " 'mongolian': 'mn',\n",
       " 'myanmar': 'my',\n",
       " 'nepali': 'ne',\n",
       " 'norwegian': 'no',\n",
       " 'odia': 'or',\n",
       " 'pashto': 'ps',\n",
       " 'persian': 'fa',\n",
       " 'polish': 'pl',\n",
       " 'portuguese': 'pt',\n",
       " 'punjabi': 'pa',\n",
       " 'romanian': 'ro',\n",
       " 'russian': 'ru',\n",
       " 'samoan': 'sm',\n",
       " 'scots gaelic': 'gd',\n",
       " 'serbian': 'sr',\n",
       " 'sesotho': 'st',\n",
       " 'shona': 'sn',\n",
       " 'sindhi': 'sd',\n",
       " 'sinhala': 'si',\n",
       " 'slovak': 'sk',\n",
       " 'slovenian': 'sl',\n",
       " 'somali': 'so',\n",
       " 'spanish': 'es',\n",
       " 'sundanese': 'su',\n",
       " 'swahili': 'sw',\n",
       " 'swedish': 'sv',\n",
       " 'tajik': 'tg',\n",
       " 'tamil': 'ta',\n",
       " 'tatar': 'tt',\n",
       " 'telugu': 'te',\n",
       " 'thai': 'th',\n",
       " 'turkish': 'tr',\n",
       " 'turkmen': 'tk',\n",
       " 'ukrainian': 'uk',\n",
       " 'urdu': 'ur',\n",
       " 'uyghur': 'ug',\n",
       " 'uzbek': 'uz',\n",
       " 'vietnamese': 'vi',\n",
       " 'welsh': 'cy',\n",
       " 'xhosa': 'xh',\n",
       " 'yiddish': 'yi',\n",
       " 'yoruba': 'yo',\n",
       " 'zulu': 'zu'}"
      ]
     },
     "execution_count": 6,
     "metadata": {},
     "output_type": "execute_result"
    }
   ],
   "source": [
    "g = GoogleTranslator()\n",
    "langs_list = g.get_supported_languages(as_dict=True)\n",
    "langs_list"
   ]
  },
  {
   "cell_type": "markdown",
   "id": "5c068b0a",
   "metadata": {},
   "source": [
    "### Translating microphone text to user choice language"
   ]
  },
  {
   "cell_type": "code",
   "execution_count": 7,
   "id": "3e7a7c98",
   "metadata": {},
   "outputs": [
    {
     "name": "stdout",
     "output_type": "stream",
     "text": [
      "\n",
      "\n",
      "Which language would you like to translate too? \n",
      "(Note: Only language supported by Google translator would be considered. Enter 'exit' to stop.)\n",
      "french\n",
      "il fait beau aujourd'hui\n",
      "\n",
      "\n",
      "Which language would you like to translate too? \n",
      "(Note: Only language supported by Google translator would be considered. Enter 'exit' to stop.)\n",
      "hindi\n",
      "आज मौसम सुहाना है\n",
      "\n",
      "\n",
      "Which language would you like to translate too? \n",
      "(Note: Only language supported by Google translator would be considered. Enter 'exit' to stop.)\n",
      "korean\n",
      "오늘 날씨가 화창하다\n",
      "\n",
      "\n",
      "Which language would you like to translate too? \n",
      "(Note: Only language supported by Google translator would be considered. Enter 'exit' to stop.)\n",
      "arabic\n",
      "الطقس مشمس اليوم\n",
      "\n",
      "\n",
      "Which language would you like to translate too? \n",
      "(Note: Only language supported by Google translator would be considered. Enter 'exit' to stop.)\n",
      "exit\n"
     ]
    }
   ],
   "source": [
    "target_lang = ''\n",
    "\n",
    "while(target_lang!='exit'):\n",
    "    target_lang = input(\"\\n\\nWhich language would you like to translate too? \\n(Note: Only language supported by Google translator would be considered. Enter 'exit' to stop.)\\n\")\n",
    "    \n",
    "    if target_lang!='exit':   \n",
    "        try: \n",
    "            # Using google translator from deep translator to translate the audio text\n",
    "            translated = GoogleTranslator(source='auto', target=target_lang.lower()).translate(r.recognize_google(microphone_text))\n",
    "            print(translated)\n",
    "        except:\n",
    "            (\"Unsupported Language\")\n",
    "            break\n",
    "    else:\n",
    "        break"
   ]
  },
  {
   "cell_type": "code",
   "execution_count": null,
   "id": "0ed0c478",
   "metadata": {},
   "outputs": [],
   "source": []
  }
 ],
 "metadata": {
  "kernelspec": {
   "display_name": "Python 3",
   "language": "python",
   "name": "python3"
  },
  "language_info": {
   "codemirror_mode": {
    "name": "ipython",
    "version": 3
   },
   "file_extension": ".py",
   "mimetype": "text/x-python",
   "name": "python",
   "nbconvert_exporter": "python",
   "pygments_lexer": "ipython3",
   "version": "3.8.8"
  }
 },
 "nbformat": 4,
 "nbformat_minor": 5
}
